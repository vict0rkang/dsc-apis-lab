{
 "cells": [
  {
   "cell_type": "markdown",
   "metadata": {},
   "source": [
    "# APIs - Cumulative Lab\n",
    "\n",
    "\n",
    "## Introduction \n",
    "\n",
    "We've seen how the Yelp API works and how to create basic visualizations using Folium. It's time to put those skills to work in order to create a working map! Taking things a step further, you'll also independently explore how to perform pagination in order to retrieve a full results set from the Yelp API.\n",
    "\n",
    "## Objectives\n",
    "\n",
    "You will be able to: \n",
    "\n",
    "* Practice using functions to organize your code\n",
    "* Use pagination to retrieve all results from an API query\n",
    "* Practice parsing data returned from an API query\n",
    "* Practice interpreting visualizations of a dataset\n",
    "* Create maps using Folium"
   ]
  },
  {
   "cell_type": "markdown",
   "metadata": {},
   "source": [
    "## Your Task: Query Yelp for All Businesses in a Category and Analyze the Results\n",
    "\n",
    "![restaurant counter with pizza](images/restaurant_counter.jpg)\n",
    "\n",
    "Photo by <a href=\"https://unsplash.com/@jordanmadrid?utm_source=unsplash&utm_medium=referral&utm_content=creditCopyText\">Jordan Madrid</a> on <a href=\"/s/photos/pizza-restaurant?utm_source=unsplash&utm_medium=referral&utm_content=creditCopyText\">Unsplash</a>"
   ]
  },
  {
   "cell_type": "markdown",
   "metadata": {},
   "source": [
    "### Overview\n",
    "\n",
    "You've now worked with some API calls, but we have yet to see how to retrieve a more complete dataset in a programmatic manner. In this lab, you will write a query of businesses on Yelp, then use *pagination* to retrieve all possible results for that query. Then you will create a summary of your findings, including a Folium map of the geographic locations of those businesses.\n",
    "\n",
    "### Technical Details\n",
    "\n",
    "Returning to the Yelp API, the [documentation](https://www.yelp.com/developers/documentation/v3/business_search) also provides us details regarding the **API limits**. These often include details about the number of requests a user is allowed to make within a specified time limit and the maximum number of results to be returned. In this case, we are told that any request has a **maximum of 50 results per request** and defaults to 20. Furthermore, any search will be limited to a **total of 1000 results**. To retrieve all 1000 of these results, we would have to page through the results piece by piece, retrieving 50 at a time. Processes such as these are often referred to as pagination.\n",
    "\n",
    "Also, be mindful of the **API** ***rate*** **limits**. You can only make **5000 requests per day** and are also can make requests too fast. Start prototyping small before running a loop that could be faulty. You can also use `time.sleep(n)` to add delays. For more details see https://www.yelp.com/developers/documentation/v3/rate_limiting.\n",
    "\n",
    "In this lab, you will define a search and then paginate over the results to retrieve all of the results. You'll then parse these responses as a list of dictionaries (for further exploration) and create a map using Folium to visualize the results geographically.\n",
    "\n",
    "### Requirements\n",
    "\n",
    "#### 1. Make the Initial Request\n",
    "\n",
    "Start by filling in your API key to make the initial request to the business search API. Investigate the structure of the response you get back and start figuring out how you will extract the relevant information.\n",
    "\n",
    "#### 2. Add Pagination\n",
    "\n",
    "Using loops and functions, collect the maximum number of results for your query from the API.\n",
    "\n",
    "#### 3. Perform Exploratory Analysis\n",
    "\n",
    "Interpret visualizations related to the price range, average rating, and number of reviews for all query results.\n",
    "\n",
    "#### 4. Create a Folium Map\n",
    "\n",
    "Using latitude and longitude data, plot the query results on an interactive map."
   ]
  },
  {
   "cell_type": "markdown",
   "metadata": {},
   "source": [
    "## 1. Make the Initial Request\n",
    "\n",
    "### Querying\n",
    "\n",
    "Start by making an initial request to the Yelp API. Your search must include at least 2 parameters: **term** and **location**. For example, you might search for pizza restaurants in NYC. The term and location is up to you but make the request below.\n",
    "\n",
    "Use the `requests` library ([documentation here](https://requests.readthedocs.io/en/master/user/quickstart/#make-a-request)).\n",
    "\n",
    "You'll also need an API key from Yelp. If you haven't done this already, go to the Yelp [Manage App page](https://www.yelp.com/developers/v3/manage_app) and create a new app (after making an account if you haven't already)."
   ]
  },
  {
   "cell_type": "code",
   "execution_count": 2,
   "metadata": {},
   "outputs": [
    {
     "data": {
      "text/plain": [
       "'/Users/victorkang/Documents/Flatiron/phase_1/dsc-apis-lab'"
      ]
     },
     "execution_count": 2,
     "metadata": {},
     "output_type": "execute_result"
    }
   ],
   "source": [
    "pwd"
   ]
  },
  {
   "cell_type": "code",
   "execution_count": 3,
   "metadata": {},
   "outputs": [
    {
     "name": "stdout",
     "output_type": "stream",
     "text": [
      "/Users/victorkang/Documents/Flatiron/phase_1/dsc-apis-lab\n"
     ]
    }
   ],
   "source": [
    "!pwd"
   ]
  },
  {
   "cell_type": "code",
   "execution_count": 4,
   "metadata": {},
   "outputs": [
    {
     "name": "stdout",
     "output_type": "stream",
     "text": [
      "\u001b[34m.\u001b[m\u001b[m                  \u001b[34m.ipynb_checkpoints\u001b[m\u001b[m LICENSE.md         index.ipynb\n",
      "\u001b[34m..\u001b[m\u001b[m                 .learn             README.md\n",
      "\u001b[34m.git\u001b[m\u001b[m               \u001b[34m.secrets\u001b[m\u001b[m           data.json\n",
      ".gitignore         CONTRIBUTING.md    \u001b[34mimages\u001b[m\u001b[m\n"
     ]
    }
   ],
   "source": [
    "!ls -a"
   ]
  },
  {
   "cell_type": "code",
   "execution_count": 5,
   "metadata": {},
   "outputs": [
    {
     "name": "stdout",
     "output_type": "stream",
     "text": [
      "mkdir: .secrets: File exists\n"
     ]
    }
   ],
   "source": [
    "!mkdir .secrets"
   ]
  },
  {
   "cell_type": "code",
   "execution_count": 6,
   "metadata": {},
   "outputs": [
    {
     "name": "stdout",
     "output_type": "stream",
     "text": [
      "\u001b[34m.\u001b[m\u001b[m                  \u001b[34m.ipynb_checkpoints\u001b[m\u001b[m LICENSE.md         index.ipynb\n",
      "\u001b[34m..\u001b[m\u001b[m                 .learn             README.md\n",
      "\u001b[34m.git\u001b[m\u001b[m               \u001b[34m.secrets\u001b[m\u001b[m           data.json\n",
      ".gitignore         CONTRIBUTING.md    \u001b[34mimages\u001b[m\u001b[m\n"
     ]
    }
   ],
   "source": [
    "!ls -a"
   ]
  },
  {
   "cell_type": "code",
   "execution_count": 7,
   "metadata": {},
   "outputs": [
    {
     "name": "stdout",
     "output_type": "stream",
     "text": [
      "mv: creds.json: No such file or directory\n"
     ]
    }
   ],
   "source": [
    "!mv creds.json .secrets/"
   ]
  },
  {
   "cell_type": "code",
   "execution_count": 8,
   "metadata": {},
   "outputs": [
    {
     "name": "stdout",
     "output_type": "stream",
     "text": [
      "\u001b[34m.\u001b[m\u001b[m          \u001b[34m..\u001b[m\u001b[m         creds.json\n"
     ]
    }
   ],
   "source": [
    "!ls -a .secrets/"
   ]
  },
  {
   "cell_type": "code",
   "execution_count": 9,
   "metadata": {},
   "outputs": [
    {
     "name": "stdout",
     "output_type": "stream",
     "text": [
      ".DS_Store\n",
      "*.ipynb_checkpoints\n",
      "*.pytest_cache\n",
      "*.pyc\n",
      "*__pycache__\n",
      ".secrets/\n"
     ]
    }
   ],
   "source": [
    "!tail .gitignore"
   ]
  },
  {
   "cell_type": "code",
   "execution_count": 10,
   "metadata": {},
   "outputs": [],
   "source": [
    "!echo \".secrets/\" >> .gitignore"
   ]
  },
  {
   "cell_type": "code",
   "execution_count": 11,
   "metadata": {},
   "outputs": [],
   "source": [
    "import pandas as pd\n",
    "import requests\n",
    "import json"
   ]
  },
  {
   "cell_type": "code",
   "execution_count": 12,
   "metadata": {},
   "outputs": [],
   "source": [
    "with open('.secrets/creds.json') as f:\n",
    "    api_key = json.load(f)\n",
    "    "
   ]
  },
  {
   "cell_type": "code",
   "execution_count": 13,
   "metadata": {},
   "outputs": [
    {
     "data": {
      "text/plain": [
       "<Response [200]>"
      ]
     },
     "execution_count": 13,
     "metadata": {},
     "output_type": "execute_result"
    }
   ],
   "source": [
    "# Replace None with appropriate code\n",
    "\n",
    "# Import the requests library\n",
    "None # imported already above\n",
    "\n",
    "# Get this from the \"Manage App\" page. Make sure you set them\n",
    "# back to None before pushing this to GitHub, since otherwise\n",
    "# your credentials will be compromised\n",
    "#api_key = None  #Did this above!!\n",
    "\n",
    "# These can be whatever you want! But the solution uses \"pizza\"\n",
    "# and \"New York NY\" if you want to compare your work directly\n",
    "term = \"pizza\"\n",
    "location = \"New York NY\"\n",
    "\n",
    "# Set up params for request\n",
    "url = \"https://api.yelp.com/v3/businesses/search\"\n",
    "headers = {\n",
    "    \"Authorization\": \"Bearer {}\".format(api_key['key'])\n",
    "}\n",
    "url_params = {\n",
    "    \"term\": term.replace(\" \", \"+\"),\n",
    "    \"location\": location.replace(\" \", \"+\")\n",
    "}\n",
    "\n",
    "# Make the request using requests.get, passing in\n",
    "# url, headers=headers, and params=url_params\n",
    "response = requests.get(url, headers=headers, params=url_params)\n",
    "\n",
    "# Confirm we got a 200 response\n",
    "response"
   ]
  },
  {
   "cell_type": "code",
   "execution_count": 14,
   "metadata": {},
   "outputs": [
    {
     "data": {
      "text/plain": [
       "dict_keys(['businesses', 'total', 'region'])"
      ]
     },
     "execution_count": 14,
     "metadata": {},
     "output_type": "execute_result"
    }
   ],
   "source": [
    "# Run this cell without changes\n",
    "\n",
    "# Get the response body in JSON format\n",
    "response_json = response.json()\n",
    "# View the keys\n",
    "response_json.keys()"
   ]
  },
  {
   "cell_type": "markdown",
   "metadata": {},
   "source": [
    "### Extracting Data\n",
    "\n",
    "Now, retrieve the value associated with the `'businesses'` key, and inspect its contents."
   ]
  },
  {
   "cell_type": "code",
   "execution_count": 15,
   "metadata": {},
   "outputs": [
    {
     "data": {
      "text/plain": [
       "[{'id': 'zj8Lq1T8KIC5zwFief15jg',\n",
       "  'alias': 'prince-street-pizza-new-york-2',\n",
       "  'name': 'Prince Street Pizza',\n",
       "  'image_url': 'https://s3-media4.fl.yelpcdn.com/bphoto/HVjttLctuIzKL3LSlsRf-w/o.jpg',\n",
       "  'is_closed': False,\n",
       "  'url': 'https://www.yelp.com/biz/prince-street-pizza-new-york-2?adjust_creative=siEh9bQFy8jgqBF5SmEAMw&utm_campaign=yelp_api_v3&utm_medium=api_v3_business_search&utm_source=siEh9bQFy8jgqBF5SmEAMw',\n",
       "  'review_count': 4438,\n",
       "  'categories': [{'alias': 'pizza', 'title': 'Pizza'},\n",
       "   {'alias': 'italian', 'title': 'Italian'}],\n",
       "  'rating': 4.5,\n",
       "  'coordinates': {'latitude': 40.72308755605564,\n",
       "   'longitude': -73.99453001177575},\n",
       "  'transactions': ['pickup', 'delivery'],\n",
       "  'price': '$',\n",
       "  'location': {'address1': '27 Prince St',\n",
       "   'address2': None,\n",
       "   'address3': '',\n",
       "   'city': 'New York',\n",
       "   'zip_code': '10012',\n",
       "   'country': 'US',\n",
       "   'state': 'NY',\n",
       "   'display_address': ['27 Prince St', 'New York, NY 10012']},\n",
       "  'phone': '+12129664100',\n",
       "  'display_phone': '(212) 966-4100',\n",
       "  'distance': 1961.8771417367063},\n",
       " {'id': 'ysqgdbSrezXgVwER2kQWKA',\n",
       "  'alias': 'julianas-brooklyn-3',\n",
       "  'name': \"Juliana's\",\n",
       "  'image_url': 'https://s3-media3.fl.yelpcdn.com/bphoto/j6Hoc_YpJJapUUzfd9pj8A/o.jpg',\n",
       "  'is_closed': False,\n",
       "  'url': 'https://www.yelp.com/biz/julianas-brooklyn-3?adjust_creative=siEh9bQFy8jgqBF5SmEAMw&utm_campaign=yelp_api_v3&utm_medium=api_v3_business_search&utm_source=siEh9bQFy8jgqBF5SmEAMw',\n",
       "  'review_count': 2496,\n",
       "  'categories': [{'alias': 'pizza', 'title': 'Pizza'}],\n",
       "  'rating': 4.5,\n",
       "  'coordinates': {'latitude': 40.70274718768062,\n",
       "   'longitude': -73.99343490196397},\n",
       "  'transactions': ['delivery'],\n",
       "  'price': '$$',\n",
       "  'location': {'address1': '19 Old Fulton St',\n",
       "   'address2': '',\n",
       "   'address3': '',\n",
       "   'city': 'Brooklyn',\n",
       "   'zip_code': '11201',\n",
       "   'country': 'US',\n",
       "   'state': 'NY',\n",
       "   'display_address': ['19 Old Fulton St', 'Brooklyn, NY 11201']},\n",
       "  'phone': '+17185966700',\n",
       "  'display_phone': '(718) 596-6700',\n",
       "  'distance': 308.56984360837544}]"
      ]
     },
     "execution_count": 15,
     "metadata": {},
     "output_type": "execute_result"
    }
   ],
   "source": [
    "# Replace None with appropriate code\n",
    "\n",
    "# Retrieve the value from response_json\n",
    "businesses = response_json['businesses']\n",
    "\n",
    "# View the first 2 records\n",
    "businesses[:2]"
   ]
  },
  {
   "cell_type": "markdown",
   "metadata": {},
   "source": [
    "### Preparing Data\n",
    "\n",
    "Write a function `prepare_data` that takes in a list of dictionaries like `businesses` and returns a copy that has been prepared for analysis:\n",
    "\n",
    "1. The `coordinates` key-value pair has been converted into two separate key-value pairs, `latitude` and `longitude`\n",
    "2. All other key-value pairs except for `name`, `review_count`, `rating`, and `price` have been dropped\n",
    "3. All dictionaries missing one of the relevant keys or containing null values have been dropped\n",
    "\n",
    "In other words, the final keys for each dictionary should be `name`, `review_count`, `rating`, `price`, `latitude`, and `longitude`.\n",
    "\n",
    "Complete the function in the cell below:"
   ]
  },
  {
   "cell_type": "code",
   "execution_count": 16,
   "metadata": {},
   "outputs": [
    {
     "data": {
      "text/plain": [
       "[{'name': 'Prince Street Pizza',\n",
       "  'review_count': 4438,\n",
       "  'rating': 4.5,\n",
       "  'price': '$',\n",
       "  'latitude': 40.72308755605564,\n",
       "  'longitude': -73.99453001177575},\n",
       " {'name': \"Juliana's\",\n",
       "  'review_count': 2496,\n",
       "  'rating': 4.5,\n",
       "  'price': '$$',\n",
       "  'latitude': 40.70274718768062,\n",
       "  'longitude': -73.99343490196397},\n",
       " {'name': \"Lombardi's Pizza\",\n",
       "  'review_count': 6368,\n",
       "  'rating': 4.0,\n",
       "  'price': '$$',\n",
       "  'latitude': 40.7215934960083,\n",
       "  'longitude': -73.9955956044561},\n",
       " {'name': 'Lucali',\n",
       "  'review_count': 1834,\n",
       "  'rating': 4.0,\n",
       "  'price': '$$',\n",
       "  'latitude': 40.681840746711224,\n",
       "  'longitude': -74.0003327},\n",
       " {'name': 'Rubirosa',\n",
       "  'review_count': 2736,\n",
       "  'rating': 4.5,\n",
       "  'price': '$$',\n",
       "  'latitude': 40.722766,\n",
       "  'longitude': -73.996233}]"
      ]
     },
     "execution_count": 16,
     "metadata": {},
     "output_type": "execute_result"
    }
   ],
   "source": [
    "# Replace None with appropriate code\n",
    "\n",
    "def prepare_data(data_list):\n",
    "    \"\"\"\n",
    "    This function takes in a list of dictionaries and prepares it\n",
    "    for analysis\n",
    "    \"\"\"\n",
    "    \n",
    "    # Make a new list to hold results\n",
    "    results = []\n",
    "    \n",
    "    for business_data in data_list:\n",
    "    \n",
    "        # Make a new dictionary to hold prepared data for this business\n",
    "        prepared_data = {}\n",
    "        \n",
    "        # Extract name, review_count, rating, and price key-value pairs\n",
    "        # from business_data and add to prepared_data\n",
    "        # If a key is not present in business_data, add it to prepared_data\n",
    "        # with an associated value of None\n",
    "        keys = (\"name\", \"review_count\", \"rating\", \"price\")\n",
    "        for what in keys:\n",
    "            prepared_data[what] = business_data.get(what, None)\n",
    "    \n",
    "        # Parse and add latitude and longitude columns\n",
    "        parsed_coordinates = business_data[\"coordinates\"]\n",
    "        prepared_data[\"latitude\"] = parsed_coordinates[\"latitude\"]\n",
    "        prepared_data[\"longitude\"] = parsed_coordinates[\"longitude\"]\n",
    "        \n",
    "        # Add to list if all values are present\n",
    "        if all(prepared_data.values()):\n",
    "            results.append(prepared_data)\n",
    "    \n",
    "    return results\n",
    "    \n",
    "# Test out function\n",
    "prepared_businesses = prepare_data(businesses)\n",
    "prepared_businesses[:5]"
   ]
  },
  {
   "cell_type": "markdown",
   "metadata": {},
   "source": [
    "Check that your function created the correct keys:"
   ]
  },
  {
   "cell_type": "code",
   "execution_count": 17,
   "metadata": {},
   "outputs": [],
   "source": [
    "# Run this cell without changes\n",
    "\n",
    "assert sorted(list(prepared_businesses[0].keys())) == ['latitude', 'longitude', 'name', 'price', 'rating', 'review_count']"
   ]
  },
  {
   "cell_type": "markdown",
   "metadata": {},
   "source": [
    "The following code will differ depending on your query, but we expect there to be 20 businesses in the original list, and potentially fewer in the prepared list (if any of them were missing data):"
   ]
  },
  {
   "cell_type": "code",
   "execution_count": 18,
   "metadata": {},
   "outputs": [
    {
     "name": "stdout",
     "output_type": "stream",
     "text": [
      "Original: 20\n",
      "Prepared: 17\n"
     ]
    }
   ],
   "source": [
    "# Run this cell without changes\n",
    "print(\"Original:\", len(businesses))\n",
    "print(\"Prepared:\", len(prepared_businesses))"
   ]
  },
  {
   "cell_type": "markdown",
   "metadata": {},
   "source": [
    "Great! We will reuse this function once we have retrieved the full dataset."
   ]
  },
  {
   "cell_type": "markdown",
   "metadata": {},
   "source": [
    "## 2. Add Pagination\n",
    "\n",
    "Now that you are able to extract information from one page of the response, let's figure out how to request as many pages as possible.\n",
    "\n",
    "### Determining the Total\n",
    "\n",
    "Depending on the number of total results for your query, you will either retrieve all of the results, or just the first 1000 (if there are more than 1000 total).\n",
    "\n",
    "We can find the total number of results using the `\"total\"` key:"
   ]
  },
  {
   "cell_type": "code",
   "execution_count": 19,
   "metadata": {},
   "outputs": [
    {
     "data": {
      "text/plain": [
       "12100"
      ]
     },
     "execution_count": 19,
     "metadata": {},
     "output_type": "execute_result"
    }
   ],
   "source": [
    "# Run this cell without changes\n",
    "response_json[\"total\"]"
   ]
  },
  {
   "cell_type": "markdown",
   "metadata": {},
   "source": [
    "(This is specific to the implementation of the Yelp API. Some APIs will just tell you that there are more pages, or will tell you the number of pages total, rather than the total number of results. If you're not sure, always check the documentation.)\n",
    "\n",
    "In the cell below, assign the variable `total` to either the value shown above (if it is less than 1000), or 1000."
   ]
  },
  {
   "cell_type": "code",
   "execution_count": 20,
   "metadata": {},
   "outputs": [],
   "source": [
    "# Replace None with appropriate code\n",
    "total = 1000"
   ]
  },
  {
   "cell_type": "markdown",
   "metadata": {},
   "source": [
    "### Calculating the Offsets\n",
    "\n",
    "The documentation states in the parameters section:\n",
    "\n",
    "> **Name**: `limit`, **Type:** int, **Description:** Optional. Number of business results to return. By default, it will return 20. Maximum is 50.\n",
    "\n",
    "> **Name**: `offset`, **Type:** int, **Description:** Optional. Offset the list of returned business results by this amount.\n",
    "\n",
    "So, to get the most results with the fewest API calls we want to set a limit of 50 every time. If, say, we wanted to get 210 total results, that would mean:\n",
    "\n",
    "1. Offset of `0` (first 50 records)\n",
    "2. Offset of `50` (second 50 records)\n",
    "3. Offset of `100` (third 50 records)\n",
    "4. Offset of `150` (fourth 50 records)\n",
    "5. Offset of `200` (final 10 records)\n",
    "\n",
    "In the cell below, create a function `get_offsets` that takes in a total and returns a list of offsets for that total. You can assume that there is a limit of 50 every time.\n",
    "\n",
    "*Hint: you can use `range` ([documentation here](https://docs.python.org/3.3/library/stdtypes.html?highlight=range#range)) to do this in one line of code. Just make the returned result is a list.*"
   ]
  },
  {
   "cell_type": "code",
   "execution_count": 21,
   "metadata": {},
   "outputs": [],
   "source": [
    "# Replace None with appropriate code\n",
    "def get_offsets(total):\n",
    "    \"\"\"\n",
    "    Get a list of offsets needed to get all pages\n",
    "    of data up until the total\n",
    "    \"\"\"\n",
    "    offsets = list(range(0, total, 50))\n",
    "    return offsets"
   ]
  },
  {
   "cell_type": "markdown",
   "metadata": {},
   "source": [
    "Check that your function works below:"
   ]
  },
  {
   "cell_type": "code",
   "execution_count": 22,
   "metadata": {},
   "outputs": [],
   "source": [
    "# Run this cell without changes\n",
    "\n",
    "assert get_offsets(200) == [0, 50, 100, 150]\n",
    "assert get_offsets(210) == [0, 50, 100, 150, 200]"
   ]
  },
  {
   "cell_type": "markdown",
   "metadata": {},
   "source": [
    "### Putting It All Together\n",
    "\n",
    "Recall that the following variable has already been declared for you:"
   ]
  },
  {
   "cell_type": "code",
   "execution_count": 23,
   "metadata": {},
   "outputs": [
    {
     "data": {
      "text/plain": [
       "{'term': 'pizza', 'location': 'New+York+NY'}"
      ]
     },
     "execution_count": 23,
     "metadata": {},
     "output_type": "execute_result"
    }
   ],
   "source": [
    "# Run this cell without changes\n",
    "url_params"
   ]
  },
  {
   "cell_type": "markdown",
   "metadata": {},
   "source": [
    "We'll go ahead and also specify that the limit should be 50 every time:"
   ]
  },
  {
   "cell_type": "code",
   "execution_count": 24,
   "metadata": {},
   "outputs": [],
   "source": [
    "# Run this cell without changes\n",
    "url_params[\"limit\"] = 50"
   ]
  },
  {
   "cell_type": "markdown",
   "metadata": {},
   "source": [
    "In order to modify the offset, you'll need to add it to `url_params` with the key `\"offset\"` and whatever value is needed.\n",
    "\n",
    "In the cell below, write code that:\n",
    "\n",
    "* Creates an empty list for the full prepared dataset\n",
    "* Loops over all of the offsets from `get_offsets` and makes an API call each time with the specified offset\n",
    "* Calls `prepare_data` to get a cleaned version of the result of each API call\n",
    "* Extends the full prepared dataset list with each query's prepared dataset"
   ]
  },
  {
   "cell_type": "code",
   "execution_count": 25,
   "metadata": {},
   "outputs": [
    {
     "data": {
      "text/plain": [
       "786"
      ]
     },
     "execution_count": 25,
     "metadata": {},
     "output_type": "execute_result"
    }
   ],
   "source": [
    "# Replace None with appropriate code\n",
    "\n",
    "# Create an empty list for the full prepared dataset\n",
    "full_dataset = []\n",
    "\n",
    "for offset in get_offsets(total):\n",
    "    # Add or update the \"offset\" key-value pair in url_params\n",
    "    url_params[\"offset\"] = offset\n",
    "    \n",
    "    # Make the query and get the response\n",
    "    response = requests.get(url, headers=headers, params=url_params)\n",
    "    \n",
    "    # Get the response body in JSON format\n",
    "    response_json = response.json()\n",
    "    \n",
    "    # Get the list of businesses from the response_json\n",
    "    businesses = response_json[\"businesses\"]\n",
    "    \n",
    "    # Call the prepare_data function to get a list of processed data\n",
    "    prepared_businesses = prepare_data(businesses)\n",
    "    \n",
    "    # Extend full_dataset with this list (don't append, or you'll get\n",
    "    # a list of lists instead of a flat list)\n",
    "    full_dataset.extend(prepared_businesses)\n",
    "\n",
    "# Check the length of the full dataset. It will be up to `total`,\n",
    "# potentially less if there were missing values\n",
    "len(full_dataset)"
   ]
  },
  {
   "cell_type": "markdown",
   "metadata": {},
   "source": [
    "This code may take up to a few minutes to run.\n",
    "\n",
    "If you get an error trying to get the response body in JSON format, try adding `time.sleep(1)` right after the `requests.get` line, so your code will sleep for 1 second between each API call."
   ]
  },
  {
   "cell_type": "markdown",
   "metadata": {},
   "source": [
    "## 3. Perform Exploratory Analysis\n",
    "\n",
    "Take the businesses from the previous question and do an initial exploratory analysis. We have provided some plots for you to interpret:"
   ]
  },
  {
   "cell_type": "code",
   "execution_count": 26,
   "metadata": {},
   "outputs": [
    {
     "data": {
      "image/png": "[encoded data removed]",
      "text/plain": [
       "<Figure size 1152x360 with 3 Axes>"
      ]
     },
     "metadata": {
      "needs_background": "light"
     },
     "output_type": "display_data"
    }
   ],
   "source": [
    "# Run this cell without changes\n",
    "from collections import Counter\n",
    "import matplotlib.pyplot as plt\n",
    "%matplotlib inline\n",
    "\n",
    "fig, (ax1, ax2, ax3) = plt.subplots(ncols=3, figsize=(16, 5))\n",
    "\n",
    "# Plot distribution of number of reviews\n",
    "all_review_counts = [x[\"review_count\"] for x in full_dataset]\n",
    "ax1.hist(all_review_counts)\n",
    "ax1.set_title(\"Review Count Distribution\")\n",
    "ax1.set_xlabel(\"Number of Reviews\")\n",
    "ax1.set_ylabel(\"Number of Businesses\")\n",
    "\n",
    "# Plot rating distribution\n",
    "all_ratings = [x[\"rating\"] for x in full_dataset]\n",
    "rating_counter = Counter(all_ratings)\n",
    "rating_keys = sorted(rating_counter.keys())\n",
    "ax2.bar(rating_keys, [rating_counter[key] for key in rating_keys])\n",
    "ax2.set_title(\"Rating Distribution\")\n",
    "ax2.set_xlabel(\"Rating\")\n",
    "ax2.set_ylabel(\"Number of Businesses\")\n",
    "\n",
    "# Plot price distribution\n",
    "all_prices = [x[\"price\"].replace(\"$\", r\"\\$\") for x in full_dataset]\n",
    "price_counter = Counter(all_prices)\n",
    "price_keys = sorted(price_counter.keys())\n",
    "ax3.bar(price_keys, [price_counter[key] for key in price_keys])\n",
    "ax3.set_title(\"Price Distribution\")\n",
    "ax3.set_xlabel(\"Price Category\")\n",
    "ax3.set_ylabel(\"Number of Businesses\");"
   ]
  },
  {
   "cell_type": "markdown",
   "metadata": {},
   "source": [
    "Describe the distributions displayed above and interpret them in the context of your query. (Your answer may differ from the solution branch depending on your query.)"
   ]
  },
  {
   "cell_type": "code",
   "execution_count": 27,
   "metadata": {},
   "outputs": [
    {
     "data": {
      "text/plain": [
       "'\\nThe review count distribution is extremely skewed where almost all businesses have less than 2000 reviews.\\nThis makes sense as while there are many pizza shops out there, only the hugely popular spots and tourist traps will have crazy amounts of\\nreviews. These are the wild outliers. The vast majority of pizza shops are just regular places with normal amounts of reviews.\\nRatings look like they follow somewhat of a positively skewed distribution, with an average closer to 4, and a range between 2 and 5.\\nPrice heavily favors the one or two $ signs. This makes sense for pizza, but there are a few high end expensive pizza businesses.\\n'"
      ]
     },
     "execution_count": 27,
     "metadata": {},
     "output_type": "execute_result"
    }
   ],
   "source": [
    "# Replace None with appropriate text\n",
    "\"\"\"\n",
    "The review count distribution is extremely skewed where almost all businesses have less than 2000 reviews.\n",
    "This makes sense as while there are many pizza shops out there, only the hugely popular spots and tourist traps will have crazy amounts of\n",
    "reviews. These are the wild outliers. The vast majority of pizza shops are just regular places with normal amounts of reviews.\n",
    "Ratings look like they follow somewhat of a positively skewed distribution, with an average closer to 4, and a range between 2 and 5.\n",
    "Price heavily favors the one or two $ signs. This makes sense for pizza, but there are a few high end expensive pizza businesses.\n",
    "\"\"\""
   ]
  },
  {
   "cell_type": "markdown",
   "metadata": {},
   "source": [
    "In the cell below, we also plot the rating distributions by price. In this setup, a price of one dollar sign is \"lower price\" and everything else is \"higher price\"."
   ]
  },
  {
   "cell_type": "code",
   "execution_count": 28,
   "metadata": {},
   "outputs": [
    {
     "data": {
      "image/png": "[encoded data removed]",
      "text/plain": [
       "<Figure size 432x288 with 1 Axes>"
      ]
     },
     "metadata": {
      "needs_background": "light"
     },
     "output_type": "display_data"
    }
   ],
   "source": [
    "# Run this cell without changes\n",
    "\n",
    "higher_price = []\n",
    "lower_price = []\n",
    "for row in full_dataset:\n",
    "    if row[\"price\"] == \"$\":\n",
    "        lower_price.append(row[\"rating\"])\n",
    "    else:\n",
    "        higher_price.append(row[\"rating\"])\n",
    "        \n",
    "fig, ax = plt.subplots()\n",
    "\n",
    "ax.hist([higher_price, lower_price], label=[\"higher price\", \"lower price\"], density=True)\n",
    "\n",
    "ax.legend();"
   ]
  },
  {
   "cell_type": "markdown",
   "metadata": {},
   "source": [
    "Is a higher price associated with a higher rating? (No need for any additional math/statistics, just interpret what you see in the plot.)"
   ]
  },
  {
   "cell_type": "code",
   "execution_count": 29,
   "metadata": {},
   "outputs": [
    {
     "data": {
      "text/plain": [
       "\"\\nHigh price pizza businesses generally seems to have a slightly higher rating distribution, but it's pizza! \\nWhile the data here suggests a higher price pizza may have a higher floor when it comes to rating, it doesn't mean high price \\ndefinitely means a better pizza.\\n\""
      ]
     },
     "execution_count": 29,
     "metadata": {},
     "output_type": "execute_result"
    }
   ],
   "source": [
    "# Replace None with appropriate text\n",
    "\"\"\"\n",
    "High price pizza businesses generally seems to have a slightly higher rating distribution, but it's pizza! \n",
    "While the data here suggests a higher price pizza may have a higher floor when it comes to rating, it doesn't mean high price \n",
    "definitely means a better pizza.\n",
    "\"\"\""
   ]
  },
  {
   "cell_type": "markdown",
   "metadata": {},
   "source": [
    "Finally, let's look at ratings vs. review counts:"
   ]
  },
  {
   "cell_type": "code",
   "execution_count": 30,
   "metadata": {},
   "outputs": [
    {
     "data": {
      "image/png": "[encoded data removed]",
      "text/plain": [
       "<Figure size 1152x360 with 1 Axes>"
      ]
     },
     "metadata": {
      "needs_background": "light"
     },
     "output_type": "display_data"
    }
   ],
   "source": [
    "# Run this cell without changes\n",
    "fig, ax = plt.subplots(figsize=(16,5))\n",
    "\n",
    "ax.scatter(all_review_counts, all_ratings, alpha=0.2)\n",
    "ax.set_xlabel(\"Number of Reviews\")\n",
    "ax.set_ylabel(\"Rating\")\n",
    "# \"zoom in\" to a subset of review counts\n",
    "ax.set_xlim(left=0, right=1000);"
   ]
  },
  {
   "cell_type": "markdown",
   "metadata": {},
   "source": [
    "Is a higher number of reviews associated with a higher rating?"
   ]
  },
  {
   "cell_type": "code",
   "execution_count": 31,
   "metadata": {},
   "outputs": [
    {
     "data": {
      "text/plain": [
       "'\\nI would not say number of reviews has any correlation to having a higher rating. This looks inconclusive.\\nI guess you can say that no business with a high number of reviews has been able to maintain a rating at the ends of the range \\nlike a 5 or a 2.5 or 3.\\n'"
      ]
     },
     "execution_count": 31,
     "metadata": {},
     "output_type": "execute_result"
    }
   ],
   "source": [
    "# Replace None with appropriate text\n",
    "\"\"\"\n",
    "I would not say number of reviews has any correlation to having a higher rating. This looks inconclusive.\n",
    "I guess you can say that no business with a high number of reviews has been able to maintain a rating at the ends of the range \n",
    "like a 5 or a 2.5 or 3.\n",
    "\"\"\""
   ]
  },
  {
   "cell_type": "markdown",
   "metadata": {},
   "source": [
    "## 4. Create a Folium Map\n",
    "\n",
    "Make a map using Folium of the businesses you retrieved. Be sure to also add popups to the markers giving some basic information such as name, rating and price.\n",
    "\n",
    "You can center the map around the latitude and longitude of the first item in `full_dataset`."
   ]
  },
  {
   "cell_type": "code",
   "execution_count": 32,
   "metadata": {},
   "outputs": [
    {
     "data": {
      "text/html": [
       "<div style=\"width:100%;\"><div style=\"position:relative;width:100%;height:0;padding-bottom:60%;\"><span style=\"color:#565656\">Make this Notebook Trusted to load map: File -> Trust Notebook</span><iframe src=\"about:blank\" style=\"position:absolute;width:100%;height:100%;left:0;top:0;border:none !important;\" data-html=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 onload=\"this.contentDocument.open();this.contentDocument.write(atob(this.getAttribute('data-html')));this.contentDocument.close();\" allowfullscreen webkitallowfullscreen mozallowfullscreen></iframe></div></div>"
      ],
      "text/plain": [
       "<folium.folium.Map at 0x7f8ecb035940>"
      ]
     },
     "execution_count": 32,
     "metadata": {},
     "output_type": "execute_result"
    }
   ],
   "source": [
    "# Replace None with appropriate code\n",
    "\n",
    "# Import the library\n",
    "import folium\n",
    "\n",
    "# Set up center latitude and longitude\n",
    "center_lat = full_dataset[0][\"latitude\"]\n",
    "center_long = full_dataset[0][\"longitude\"]\n",
    "\n",
    "# Initialize map with center lat and long\n",
    "yelp_map = folium.Map([center_lat, center_long])\n",
    "\n",
    "# Adjust this limit to see more or fewer businesses\n",
    "limit=100\n",
    "\n",
    "for business in full_dataset[:limit]:\n",
    "    # Extract information about business\n",
    "    lat = business[\"latitude\"]\n",
    "    long = business[\"longitude\"]\n",
    "    name = business[\"name\"]\n",
    "    rating = business[\"rating\"]\n",
    "    price = business[\"price\"]\n",
    "    details = \"{}\\nPrice: {} Rating:{}\".format(name,price,rating)\n",
    "    \n",
    "    # Create popup with relevant details\n",
    "    popup = folium.Popup(details)\n",
    "    \n",
    "    # Create marker with relevant lat/long and popup\n",
    "    marker = folium.Marker([lat, long], popup=popup)\n",
    "    \n",
    "    marker.add_to(yelp_map)\n",
    "    \n",
    "yelp_map"
   ]
  },
  {
   "cell_type": "markdown",
   "metadata": {},
   "source": [
    "## Summary\n",
    "\n",
    "Nice work! In this lab, you've made multiple API calls to Yelp in order to paginate through a results set, performing some basic exploratory analysis and then creating a nice interactive map to display the results using Folium! Well done!"
   ]
  },
  {
   "cell_type": "code",
   "execution_count": 33,
   "metadata": {},
   "outputs": [
    {
     "name": "stdout",
     "output_type": "stream",
     "text": [
      ".DS_Store\n",
      "*.ipynb_checkpoints\n",
      "*.pytest_cache\n",
      "*.pyc\n",
      "*__pycache__\n",
      ".secrets/\n",
      ".secrets/\n"
     ]
    }
   ],
   "source": [
    "!tail .gitignore"
   ]
  },
  {
   "cell_type": "code",
   "execution_count": null,
   "metadata": {},
   "outputs": [],
   "source": []
  }
 ],
 "metadata": {
  "kernelspec": {
   "display_name": "Python (learn-env)",
   "language": "python",
   "name": "learn-env"
  },
  "language_info": {
   "codemirror_mode": {
    "name": "ipython",
    "version": 3
   },
   "file_extension": ".py",
   "mimetype": "text/x-python",
   "name": "python",
   "nbconvert_exporter": "python",
   "pygments_lexer": "ipython3",
   "version": "3.8.5"
  },
  "toc": {
   "base_numbering": 1,
   "nav_menu": {},
   "number_sections": true,
   "sideBar": true,
   "skip_h1_title": false,
   "title_cell": "Table of Contents",
   "title_sidebar": "Contents",
   "toc_cell": false,
   "toc_position": {},
   "toc_section_display": true,
   "toc_window_display": false
  }
 },
 "nbformat": 4,
 "nbformat_minor": 4
}
